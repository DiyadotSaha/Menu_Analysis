{
  "nbformat": 4,
  "nbformat_minor": 0,
  "metadata": {
    "colab": {
      "provenance": []
    },
    "kernelspec": {
      "name": "python3",
      "display_name": "Python 3"
    },
    "language_info": {
      "name": "python"
    }
  },
  "cells": [
    {
      "cell_type": "code",
      "execution_count": null,
      "metadata": {
        "colab": {
          "base_uri": "https://localhost:8080/"
        },
        "id": "ZEZhQaxydm9U",
        "outputId": "7a796c93-11a9-4cfa-8816-2fa45c67be9b"
      },
      "outputs": [
        {
          "output_type": "stream",
          "name": "stdout",
          "text": [
            "Mounted at /content/drive\n"
          ]
        }
      ],
      "source": [
        "import pandas as pd \n",
        "import pprint as pp\n",
        "import matplotlib.pyplot as plt\n",
        "import numpy as np\n",
        "import string\n",
        "import operator\n",
        "from google.colab import drive\n",
        "from csv import reader\n",
        "import csv\n",
        "drive.mount('/content/drive')"
      ]
    },
    {
      "cell_type": "code",
      "source": [
        "path = '/content/drive/MyDrive/Colab Notebooks/data/Mainland_menu.csv'\n",
        "list_categ_dicts_mainland=[]\n",
        "list_categories_mainland = []\n",
        "temp_dict = {}\n",
        "myfile = open(path, \"r\")\n",
        "while myfile:\n",
        "    lines  = myfile.readline()\n",
        "    before, sep, after = lines.partition(': ') \n",
        "    after = after.rstrip()\n",
        "    list_categories_mainland+=[after]\n",
        "    if lines == '': \n",
        "      print('EOF DONE')\n",
        "      break\n",
        "    else:\n",
        "      while True: \n",
        "        current_line = myfile.readline()\n",
        "        current_line = current_line.lower()\n",
        "        next_line = myfile.readline()\n",
        "        next_line = next_line.lower()\n",
        "        before = ''\n",
        "        sep = ''\n",
        "        after = ''\n",
        "        if current_line == '' and next_line == '': \n",
        "          list_categ_dicts_mainland += [temp_dict]\n",
        "          print('reached last line')\n",
        "          break \n",
        "        else: \n",
        "          if \"sub: \" in next_line:\n",
        "            list_categ_dicts_mainland += [temp_dict]\n",
        "            temp_dict = {}\n",
        "            before, sep, after = next_line.partition(': ') \n",
        "            after = after.rstrip()\n",
        "            if after not in list_categories_mainland: \n",
        "              list_categories_mainland.append(after)            \n",
        "            #print('SUB: ', after)\n",
        "          else: \n",
        "            name = current_line[current_line.find(\" \")+1:]\n",
        "            name = name.rstrip()\n",
        "            desc = next_line\n",
        "            desc = desc.rstrip()\n",
        "            if desc == \"()\": \n",
        "              print(\"PRINTING DESC: \", desc, \"NAME: \", name)\n",
        "              temp_dict[name] = name\n",
        "            else: \n",
        "              temp_dict[name] = desc\n",
        "            #print('Name: ', name, 'Description: ', desc)\n",
        "for i in list_categories_mainland: \n",
        "  if i is \"\": \n",
        "    list_categories_mainland.remove(i)\n",
        "\n",
        "\n",
        "for i in list_categ_dicts_mainland: \n",
        "  print(i)\n",
        "print(\"MYLIST=----------\")\n",
        "print(list_categories_mainland)\n",
        "myfile.close() "
      ],
      "metadata": {
        "id": "TrCynmDTky6z",
        "colab": {
          "base_uri": "https://localhost:8080/"
        },
        "outputId": "c672a8a4-3ed2-4a4c-8613-45f6eb0cdff6"
      },
      "execution_count": null,
      "outputs": [
        {
          "output_type": "stream",
          "name": "stdout",
          "text": [
            "PRINTING DESC:  () NAME:  edamame dumplings with truffle oil\n",
            "PRINTING DESC:  () NAME:  corn and water chestnuts dumplings\n",
            "PRINTING DESC:  () NAME:  basil flavoured vegetable dumplings\n",
            "PRINTING DESC:  () NAME:  steamed cottage cheese dumplings with truffle oil\n",
            "PRINTING DESC:  () NAME:  cottage cheese with chilli and soya\n",
            "PRINTING DESC:  () NAME:  stir fried vegetables in thai basil\n",
            "PRINTING DESC:  () NAME:  exotic vegetables in black pepper sauce\n",
            "PRINTING DESC:  () NAME:  exotic vegetables in chilli basil sauce in a clay pot\n",
            "PRINTING DESC:  () NAME:  lemongrass vegetables in a fresh cilantro sauce\n",
            "PRINTING DESC:  () NAME:  steamed chinese greens and tofu in a mild ginger sauce\n",
            "PRINTING DESC:  () NAME:  vegetable dumplings in chilli soya\n",
            "PRINTING DESC:  () NAME:  vegetable and edamame fried rice\n",
            "PRINTING DESC:  () NAME:  vegetable hakka noodles\n",
            "PRINTING DESC:  () NAME:  pan fried noodles with soya braised vegetables\n",
            "PRINTING DESC:  () NAME:  edamame dumplings with truffle oil\n",
            "PRINTING DESC:  () NAME:  steamed cottage cheese dumplings with truffle oil\n",
            "PRINTING DESC:  () NAME:  corn and water chestnut dumplings\n",
            "PRINTING DESC:  () NAME:  basil flavoured dumplings\n",
            "PRINTING DESC:  () NAME:  basil flavoured chicken dumplings\n",
            "PRINTING DESC:  () NAME:  chicken and straw mushroom siu mai\n",
            "PRINTING DESC:  () NAME:  truffle flavoured zucchini spring rolls\n",
            "PRINTING DESC:  () NAME:  stir fried vegetables in thai basil\n",
            "PRINTING DESC:  () NAME:  sichuan chilli babycorn\n",
            "PRINTING DESC:  () NAME:  crispy cottage cheese with smoked chillies\n",
            "PRINTING DESC:  () NAME:  cottage cheese with chilli and soya\n",
            "PRINTING DESC:  () NAME:  spicy sichuan chicken\n",
            "PRINTING DESC:  () NAME:  red curry infused chicken satay\n",
            "PRINTING DESC:  () NAME:  crispy chicken with smoked chillies\n",
            "PRINTING DESC:  () NAME:  five herb grilled lamb chops\n",
            "PRINTING DESC:  () NAME:  steamed chinese greens and tofu in a mild ginger sauce\n",
            "PRINTING DESC:  () NAME:  cottage cheese in hot garlic sauce\n",
            "PRINTING DESC:  () NAME:  exotic vegetables in black pepper sauce\n",
            "PRINTING DESC:  () NAME:  exotic vegetables in chilli basil sauce in a clay pot\n",
            "PRINTING DESC:  () NAME:  lemongrass vegetables in a fresh cilantro sauce\n",
            "PRINTING DESC:  () NAME:  vegetables in thai green curry\n",
            "PRINTING DESC:  () NAME:  vegetable dumplings in chilli soya\n",
            "PRINTING DESC:  () NAME:  lobster in sichuan chilli sauce\n",
            "PRINTING DESC:  () NAME:  braised crabmeat with pepper and garlic\n",
            "PRINTING DESC:  () NAME:  king prawns in smoked chilli sauce\n",
            "PRINTING DESC:  () NAME:  cantonese king prawns with greens and garlic\n",
            "PRINTING DESC:  () NAME:  wok tossed prawns in black bean sauce\n",
            "PRINTING DESC:  () NAME:  fish in dragon chilli sauce\n",
            "PRINTING DESC:  () NAME:  fish with ginger and coriander\n",
            "PRINTING DESC:  () NAME:  chilli basil fish in a clay pot\n",
            "PRINTING DESC:  () NAME:  burnt garlic fish with seasonal greens\n",
            "PRINTING DESC:  () NAME:  chicken in thai green curry\n",
            "PRINTING DESC:  () NAME:  steamed chicken with vegetables in a mild ginger sauce\n",
            "PRINTING DESC:  () NAME:  braised chicken in smoked chilli sauce\n",
            "PRINTING DESC:  () NAME:  chicken with chillies and basil in a clay pot\n",
            "PRINTING DESC:  () NAME:  lemongrass chicken in fresh cilantro sauce\n",
            "PRINTING DESC:  () NAME:  thai chilli lamb with kaffir lime\n",
            "PRINTING DESC:  () NAME:  steamed rice\n",
            "PRINTING DESC:  () NAME:  steamed jasmine rice\n",
            "PRINTING DESC:  () NAME:  vegetable and edamame fried rice\n",
            "PRINTING DESC:  () NAME:  lemongrass fried rice\n",
            "PRINTING DESC:  () NAME:  chicken fried rice\n",
            "PRINTING DESC:  () NAME:  chicken lemongrass fried rice\n",
            "PRINTING DESC:  () NAME:  fukien shrimps and crabmeat fried rice\n",
            "PRINTING DESC:  () NAME:  smoked duck and asparagus fried rice\n",
            "PRINTING DESC:  () NAME:  seafood fried rice\n",
            "PRINTING DESC:  () NAME:  burnt garlic noodles with vegetables\n",
            "PRINTING DESC:  () NAME:  wok tossed hakka noodles\n",
            "PRINTING DESC:  () NAME:  chilli garlic noodles\n",
            "PRINTING DESC:  () NAME:  wok tossed chicken hakka noodles\n",
            "reached last line\n",
            "EOF DONE\n",
            "{'edamame dumplings with truffle oil': 'edamame dumplings with truffle oil', 'corn and water chestnuts dumplings': 'corn and water chestnuts dumplings', 'basil flavoured vegetable dumplings': 'basil flavoured vegetable dumplings', 'steamed cottage cheese dumplings with truffle oil': 'steamed cottage cheese dumplings with truffle oil'}\n",
            "{'crispy corn cubes': '(piping hot cubes of creamy, crunchy lightly spiced corn)', 'vegetable soya sizzler': '(vegetable and soya cakes with dragon chilli sauce)', 'cottage cheese with chilli and soya': 'cottage cheese with chilli and soya', 'crackling spinach': '(shredded spinach, fried crisp, tossed with almonds slivers and sesame seeds)', 'corn chilli pepper with kaffir lime salt': '(crunchy corn kernel spiked with chilli peppers and dusted with kaffir lime salt)', 'vegetable tempura': '(vegetable fried in tempura batter and tossed with freshly ground pepper and chilli flakes)', 'stir fried vegetables in thai basil': 'stir fried vegetables in thai basil', 'wok tossed tofu hunan style': '(soft fresh tofu cubes stir fried in a splash of soy sauce and dry red chillies)', 'ginger chilli cauliflower': '(cauliflower tossed with ginger and chillies)', 'crispy chilli potatoes': '(handcut potatoes fried crisp and tossed in a chilli sauce)'}\n",
            "{'eight treasure soup': '(chopped carrots, celery, beans, mushrooms and other seasonal vegetables in a creamy comfort soup sprinkled with almond slivers)', 'hot and sour soup': '(hot and homely soup livened with soy and crushed white peppercorns)', 'sweet corn soup': '(soft sweet corn mush in a steaming broth)', 'peppery lemon soup': '(flavoured with lemongrass and lime)', 'lemon coriander soup': '(seductive thick soup with fresh coriander and a squeeze of lemon)'}\n",
            "{'exotic vegetables in black pepper sauce': 'exotic vegetables in black pepper sauce', 'exotic vegetables in chilli basil sauce in a clay pot': 'exotic vegetables in chilli basil sauce in a clay pot', 'lemongrass vegetables in a fresh cilantro sauce': 'lemongrass vegetables in a fresh cilantro sauce', 'steamed chinese greens and tofu in a mild ginger sauce': 'steamed chinese greens and tofu in a mild ginger sauce', 'vegetable dumplings in chilli soya': 'vegetable dumplings in chilli soya'}\n",
            "{'vegetable and edamame fried rice': 'vegetable and edamame fried rice', 'vegetable hakka noodles': 'vegetable hakka noodles', 'singapore rice noodles': '(vermicelli noodles with shredded vegetables tossed in curry flavoured oil)', 'pan fried noodles with soya braised vegetables': 'pan fried noodles with soya braised vegetables', 'japanese wheat noodles': '(wok tossed buckwheat noodles with vegetables)'}\n",
            "{'edamame dumplings with truffle oil': 'edamame dumplings with truffle oil', 'steamed cottage cheese dumplings with truffle oil': 'steamed cottage cheese dumplings with truffle oil', 'thai style dumplings': '(spiced dumplings touched with kaffir lime and steamed)', 'corn and water chestnut dumplings': 'corn and water chestnut dumplings', 'basil flavoured dumplings': 'basil flavoured dumplings', 'vegetable siu mai with lemongrass': '(steamed open dumplings with seasonal vegetables)'}\n",
            "{'thai style chicken dumplings': '(spiced dumplings touched with kaffir lime and steamed)', 'basil flavoured chicken dumplings': 'basil flavoured chicken dumplings', 'chicken and straw mushroom siu mai': 'chicken and straw mushroom siu mai', 'prawn siu mai with lemongrass': '(spiced open dumplings with a hint of lemongrass)', 'prawn hargao': '(minced prawns and water chestnut wrapped in translucent wrappers and steamed)'}\n",
            "{'asparagus tempura rolls': \"(asparagus tempura, avocado, chef's special sauce)\", 'cream cheese rolls': '(cream cheese, avocado, asparagus, cucumber, mayo, teriyaki sauce)', 'prawn tempura sushi': '(prawn tempura, crab stick, mixed sauce, tobiko)', 'california sushi': '(crab stick, avocado, cucumber, tobiko)', 'philadelphia sushi': '(smoked salmon, cream cheese, avocado)'}\n",
            "{'cottage cheese and sundried tomato bao': '(with pickled carrots, sriracha mayo, scallions)', 'chilli chicken bao': '(chicken, soy sauce, green chillies)'}\n",
            "{'truffle flavoured zucchini spring rolls': 'truffle flavoured zucchini spring rolls', 'dynamite cottage cheese': '(crisp cottage cheese enveloped in silken tangy mayo)', 'stir fried vegetables in thai basil': 'stir fried vegetables in thai basil', 'sichuan chilli babycorn': 'sichuan chilli babycorn', 'crispy corn cubes': '(piping hot cubes of creamy, crunchy lightly spiced corn)', 'crispy lotus stem with curry leaves and black pepper': '(lotus stem rounds tossed with curry leaves and black pepper)', 'vegetable soya sizzler': '(vegetable and soya cakes with dragon chilli sauce)', 'crispy cottage cheese with smoked chillies': 'crispy cottage cheese with smoked chillies', 'cottage cheese with chilli and soya': 'cottage cheese with chilli and soya', 'crackling spinach': '(shredded spinach, fried crisp, tossed with almonds slivers and sesame seeds)', 'corn chilli pepper with kaffir lime salt': '(crunchy corn kernel spiked with chilli peppers and dusted with kaffir lime salt)', 'stir fried teriyaki mushroom with fresh ginger': '(mushroom tossed in a sweet japanese teriyaki sauce spiked with chillies)', 'vegetable tempura': '(vegetable fried in japanese tempura batter, tossed with freshly ground pepper and chilli flakes)', 'wok tossed tofu hunan style': '(soft fresh tofu cubes stir fried in a splash of soy sauce and dry ted chillies)', 'crispy chilli potatoes': '(handcut potatoes fried crisp and tossed in a chilli sauce)'}\n",
            "{'dynamite prawns': '(crispy prawns enveloped in silken tangy mayo)', 'jumbo prawns': '(pepper salt /7 hunan style /4 mild chilli plum)', 'king prawns hunan style': '(king prawns stir fried in a hunan style soy-chilli sauce)', 'king prawn tempura': '(king prawns fried crisp in a japanese tempura batter)', 'singapore chilli prawns': '(prawns stir fried singapore style with fresh chillies, onions and celery)', 'pan fried asian chilli fish': '(pan seared fish finished with gochujang and house chilli sauce)', 'shanghai style baked fish': '(fish fillet spiced with sichuan pepper and chilli flakes. served with a cumin soya glaze)', 'fish with golden ginger': '(fish slices tossed with ginger and chilli and garnished with crispy ginger shreds)'}\n",
            "{'smoked duck rolls': '(smoked duck breast rolled in popiah skin and crisp fried)', 'spicy sichuan chicken': 'spicy sichuan chicken', 'red curry infused chicken satay': 'red curry infused chicken satay', 'crispy chicken with smoked chillies': 'crispy chicken with smoked chillies', 'teriyaki chicken': '(chicken cubes tossed in a sweet japanese teriyaki sauce spiked with chillies)', 'keong’s ginger chicken': '(crisp chicken tossed with chillies, spring onion and ginger)', 'chicken with assorted pepper': '(diced chicken with pickled jalapeno peppers, cooked in oyster sauce)', 'lettuce wraps with crunchy vegetables and chicken': '(cubed chicken and vegetables in a sesame flavoured ginger sauce, served with lettuce cups)', 'sichuan chicken with smoked chillies and peanuts': '(chicken seasoned with tongue-tingling sichuan pepper and dry red chillies)', 'jiang’s chilli chicken': '(a time tested preparation of chicken strips, soy sauce, green chillies and vinegar)', 'drums of heaven': '(in your choice of hongkong style or chilli plum sauce)'}\n",
            "{'five herb grilled lamb chops': 'five herb grilled lamb chops', 'oriental crispy lamb': '(crispy lamb strips with smokey, sweet and hot spices)'}\n",
            "{'vietnamese noodle clear soup': '(flavoured with star anise, ginger and spring onions)', 'tom yum soup': '(traditional thai chilli broth flavoured with galangal and kaffir lime)', 'sweet corn soup': '(soft sweet corn mush in a steaming broth)', 'eight treasure soup': '(chopped carrots, celery, beans, mushrooms and other seasonal vegetables in a creamy comfort soup sprinkled with almond slivers)', 'hot and sour soup': '(hot and homely soup livened with soy and crushed white peppercorns)', 'peppery lemon soup': '(flavoured with lemongrass and lime)', 'lemon coriander soup': '(seductive thick soup with fresh coriander and a squeeze of lemon)'}\n",
            "{'vietnamese noodle clear soup with chicken': '(flavoured with star anise, ginger and spring onions)', 'tom yum soup': '(traditional thai chilli broth flavoured with galangal and kaffir lime with chicken or prawn)', 'chicken hot and sour soup': '(hot and homely soup livened with soy and crushed white peppercorns)', 'chicken peppery lemon soup': '(flavoured with lemongrass and lime)', 'sweet corn soup': '(soft sweet corn mush in a steaming broth with chicken or crabmeat)', 'eight treasure soup': '(chopped carrots, celery, beans, mushrooms and other seasonal vegetables in a creamy comfort soup sprinkled with almond slivers with chicken or seafood)', 'lemon coriander soup': '(seductive thick soup with fresh coriander and a squeeze of lemon with chicken or prawn)', 'shangsi crabmeat soup': '(with egg drop and fresh chillies)'}\n",
            "{'steamed chinese greens and tofu in a mild ginger sauce': 'steamed chinese greens and tofu in a mild ginger sauce', 'cottage cheese in hot garlic sauce': 'cottage cheese in hot garlic sauce', 'sichuan vegetable hot pot': '(a fragrant stew with lotus stem, bamboo shoots, shitake mushrooms, carrots, baby corn and chinese cabbage)', 'seasonal vegetables in smoked chilli sauce': '(a smokey flavoured fusion of dry roasted chillies, seasonal vegetables and water chestnuts)', 'exotic vegetables in black pepper sauce': 'exotic vegetables in black pepper sauce', 'exotic vegetables in chilli basil sauce in a clay pot': 'exotic vegetables in chilli basil sauce in a clay pot', 'lemongrass vegetables in a fresh cilantro sauce': 'lemongrass vegetables in a fresh cilantro sauce', 'vegetables in thai green curry': 'vegetables in thai green curry', 'sizzling vegetables with barbecued onions': '(vegetables and tofu tossed in our chef’s special sauce)', 'vegetable dumplings in chilli soya': 'vegetable dumplings in chilli soya', 'corn and potato tsing hoi style': '(crunchy corn and diced potatoes braised in a chilli sauce)'}\n",
            "{'lobster in sichuan chilli sauce': 'lobster in sichuan chilli sauce', 'braised crabmeat with pepper and garlic': 'braised crabmeat with pepper and garlic', 'slow fried jumbo prawns': '(in your choice of’ black pepper 47 dragon chilli)', 'king prawns in smoked chilli sauce': 'king prawns in smoked chilli sauce', 'cantonese king prawns with greens and garlic': 'cantonese king prawns with greens and garlic', 'wok tossed prawns in black bean sauce': 'wok tossed prawns in black bean sauce'}\n",
            "{'freshwater bhetki steamed or braised in a sauce of your choice': '(lemongrass and fresh cilantro /4 chilli oyster /“ dragon chilli)', 'fish in dragon chilli sauce': 'fish in dragon chilli sauce', 'fish with ginger and coriander': 'fish with ginger and coriander', 'chilli basil fish in a clay pot': 'chilli basil fish in a clay pot', 'burnt garlic fish with seasonal greens': 'burnt garlic fish with seasonal greens'}\n",
            "{'chicken in thai green curry': 'chicken in thai green curry', 'steamed chicken with vegetables in a mild ginger sauce': 'steamed chicken with vegetables in a mild ginger sauce', 'sichuan chicken hot pot': '(chicken stewed in a toban chilli sauce spiced with sichuan peppers)', 'braised chicken in smoked chilli sauce': 'braised chicken in smoked chilli sauce', 'chicken with chillies and basil in a clay pot': 'chicken with chillies and basil in a clay pot', 'sizzling chicken with barbecued onions': '(chicken in our chef’s special sauce)', 'lemongrass chicken in fresh cilantro sauce': 'lemongrass chicken in fresh cilantro sauce', \"general tao's chicken\": '(diced chicken in a sweet, sour and spicy soya sauce with crushed peanuts)', 'tsing hoi chicken': '(diced chicken and cashewnuts braised in a chilli sauce)', 'chicken in black pepper sauce': '(shredded chicken tossed in a robust black pepper sauce)', 'roast duckmeat with greens and garlic': '(slices of roast duck and greens in a fragrant garlic flavoured sauce)'}\n",
            "{'thai chilli lamb with kaffir lime': 'thai chilli lamb with kaffir lime', 'roast lamb in chilli bean sauce': '(roast lamb and fresh chillies braised in black bean and soya sauce)', 'braised lamb in mahlak sauce': '(sliced lamb flavoured with five spice powder and tingling sichuan peppers)'}\n",
            "{'steamed rice': 'steamed rice', 'steamed jasmine rice': 'steamed jasmine rice', 'vegetable and edamame fried rice': 'vegetable and edamame fried rice', 'toban fried rice with edamame': '(spicy fried rice with edamame)', 'lemongrass fried rice': 'lemongrass fried rice', 'fragrant pot rice': '(star anise flavoured pot rice)'}\n",
            "{'chicken fried rice': 'chicken fried rice', 'toban fried rice with chicken and edamame': '(spicy fried rice with edamame)', 'chicken lemongrass fried rice': 'chicken lemongrass fried rice', 'chicken fragrant pot rice': '(star anise flavoured pot rice)', 'fukien shrimps and crabmeat fried rice': 'fukien shrimps and crabmeat fried rice', 'smoked duck and asparagus fried rice': 'smoked duck and asparagus fried rice', 'seafood fried rice': 'seafood fried rice'}\n",
            "{'japanese wheat noodles': '(wok tossed buckwheat noodles with vegetables)', 'burnt garlic noodles with vegetables': 'burnt garlic noodles with vegetables', 'wok tossed hakka noodles': 'wok tossed hakka noodles', 'pan fried noodles with a topping of your choice': '(cantonese style /hot garlic / soya ginger)', 'singapore rice noodles / cantonese rice noodles': '(vermicelli noodles with shredded vegetables)', 'chilli garlic noodles': 'chilli garlic noodles'}\n",
            "{'wok tossed chicken hakka noodles': 'wok tossed chicken hakka noodles', 'pan fried noodles with a topping of your choice': '(cantonese style /hot garlic / soya ginger with chicken or prawn)', 'singapore rice noodles / cantonese rice noodles': '(vermicelli noodles with shredded vegetables with chicken or prawn)', '': ''}\n",
            "MYLIST=----------\n",
            "['Jain Dimsums', 'jain appetizers', 'jain soups', 'jain main course', 'jain rice and noodles', 'dimsums- vegetarian', 'dimsums- non vegetarian', 'sushi', 'open bao', 'appetizers', 'seafood appetizers', 'poultry appetizers', 'lamb appetizers', 'soups- vegetarian', 'soups - non vegetarian', 'main course - vegetarian', 'seafood main course', 'fish main course', 'poultry main course', 'lamb main course', 'rice - vegetarian', 'rice - non vegetarian', 'noodles - vegetarian', 'noodles - non vegetarian']\n"
          ]
        }
      ]
    },
    {
      "cell_type": "code",
      "source": [
        "path = '/content/drive/MyDrive/Colab Notebooks/data/Bercos_menu.csv'\n",
        "list_categ_dicts_bercos=[]\n",
        "list_categories_bercos = []\n",
        "temp_dict = {}\n",
        "myfile = open(path, \"r\")\n",
        "while myfile:\n",
        "    lines  = myfile.readline()\n",
        "    before, sep, after = lines.partition(': ') \n",
        "    after = after.rstrip()\n",
        "    list_categories_bercos+=[after]\n",
        "    if lines == '': \n",
        "      print('EOF DONE')\n",
        "      break\n",
        "    else:\n",
        "      while True: \n",
        "        current_line = myfile.readline()\n",
        "        current_line = current_line.lower()\n",
        "        next_line = myfile.readline()\n",
        "        next_line = next_line.lower()\n",
        "        before = ''\n",
        "        sep = ''\n",
        "        after = ''\n",
        "        if current_line == '' and next_line == '': \n",
        "          list_categ_dicts_bercos += [temp_dict]\n",
        "          print('reached last line')\n",
        "          break \n",
        "        else: \n",
        "          if \"sub: \" in next_line:\n",
        "            list_categ_dicts_bercos += [temp_dict]\n",
        "            temp_dict = {}\n",
        "            before, sep, after = next_line.partition(': ') \n",
        "            after = after.rstrip()\n",
        "            if after not in list_categories_bercos: \n",
        "              list_categories_bercos.append(after)            \n",
        "            #print('SUB: ', after)\n",
        "          else: \n",
        "            name = current_line[current_line.find(\" \")+1:]\n",
        "            name = name.rstrip()\n",
        "            #print(\"name\", name)\n",
        "            desc = next_line\n",
        "            desc = desc.rstrip()\n",
        "            if desc == \"()\": \n",
        "              print(\"PRINTING DESC: \", desc, \"NAME: \", name)\n",
        "              temp_dict[name] = name\n",
        "            else: \n",
        "              temp_dict[name] = desc\n",
        "\n",
        "            \n",
        "            #print('current: ', name, 'Description: ', desc)\n",
        "for i in list_categories_bercos: \n",
        "  if i is \"\": \n",
        "    list_categories_bercos.remove(i)\n",
        "\n",
        "for i in list_categ_dicts_bercos: \n",
        "  print(i)\n",
        "print(\"MYLIST=----------\")\n",
        "print(list_categories_bercos)\n",
        "myfile.close() "
      ],
      "metadata": {
        "id": "Gh8U91f7dsKT",
        "colab": {
          "base_uri": "https://localhost:8080/"
        },
        "outputId": "0e1cf52e-6de6-4311-e8ed-defb877ea576"
      },
      "execution_count": null,
      "outputs": [
        {
          "output_type": "stream",
          "name": "stdout",
          "text": [
            "PRINTING DESC:  () NAME:  garlic steamed rice\n",
            "PRINTING DESC:  () NAME:  minced chicken chilli fried rice\n",
            "PRINTING DESC:  () NAME:  fruit beer\n",
            "PRINTING DESC:  () NAME:  passion fruit cooler\n",
            "PRINTING DESC:  () NAME:  fresh mint lemonade\n",
            "PRINTING DESC:  () NAME:  green apple cooler\n",
            "PRINTING DESC:  () NAME:  bottled water\n",
            "PRINTING DESC:  () NAME:  pepsi\n",
            "PRINTING DESC:  () NAME:  mirinda\n",
            "PRINTING DESC:  () NAME:  7up\n",
            "PRINTING DESC:  () NAME:  diet pepsi\n",
            "PRINTING DESC:  () NAME:  fresh lime water/soda\n",
            "PRINTING DESC:  () NAME:  ginger fizz\n",
            "PRINTING DESC:  () NAME:  cold coffee\n",
            "PRINTING DESC:  () NAME:  cold coffee with ice cream\n",
            "PRINTING DESC:  () NAME:  thai soggy basil\n",
            "PRINTING DESC:  () NAME:  thai red curry\n",
            "PRINTING DESC:  () NAME:  thai green curry\n",
            "PRINTING DESC:  () NAME:  vegetable/ chicken\n",
            "PRINTING DESC:  () NAME:  crispy vegetable sweet chilli\n",
            "PRINTING DESC:  () NAME:  crispy fish with home made sweet chilli\n",
            "PRINTING DESC:  () NAME:  exotic vegetables with basil chilli\n",
            "PRINTING DESC:  () NAME:  wok fried chicken with basil chilli\n",
            "PRINTING DESC:  () NAME:  sliced fish with fresh basil and roasted chilli flakes\n",
            "PRINTING DESC:  () NAME:  shredded lamb in szechuan sauce\n",
            "PRINTING DESC:  () NAME:  sliced lamb in chilli bean sauce\n",
            "PRINTING DESC:  () NAME:  shredded lamb in hot garlic sauce\n",
            "PRINTING DESC:  () NAME:  sliced fish in szechuan sauce\n",
            "PRINTING DESC:  () NAME:  sliced fish in mustard chill sauce\n",
            "PRINTING DESC:  () NAME:  sliced fish in hot garlic sauce\n",
            "PRINTING DESC:  () NAME:  grilled fish with roasted garlic and chillies\n",
            "PRINTING DESC:  () NAME:  sliced fish in chilli bean sauce\n",
            "PRINTING DESC:  () NAME:  lemon and coriander fish\n",
            "PRINTING DESC:  () NAME:  wok tossed prawn with broccoli in oyster sauce\n",
            "PRINTING DESC:  () NAME:  prawn in hot garlic sauce\n",
            "PRINTING DESC:  () NAME:  black pepper prawn\n",
            "PRINTING DESC:  () NAME:  prawn in traditional chilli bean sauce\n",
            "PRINTING DESC:  () NAME:  kung pao prawns\n",
            "PRINTING DESC:  () NAME:  thaicreen curry vegetables dumplings\n",
            "PRINTING DESC:  () NAME:  chicken dumplings with lemon and thai red curry\n",
            "PRINTING DESC:  () NAME:  chicken manchurian\n",
            "PRINTING DESC:  () NAME:  sliced chicken in creamy garlic sauce\n",
            "PRINTING DESC:  () NAME:  sliced chicken in black bean sauce\n",
            "PRINTING DESC:  () NAME:  chicken in szechuan sauce\n",
            "PRINTING DESC:  () NAME:  bercos chilli chicken\n",
            "PRINTING DESC:  () NAME:  chicken in black pepper sauce\n",
            "PRINTING DESC:  () NAME:  sliced chicken in chilli oyster sauce\n",
            "PRINTING DESC:  () NAME:  stir fried shredded chicken with ginger and wine\n",
            "PRINTING DESC:  () NAME:  vegetable spring rolls\n",
            "PRINTING DESC:  () NAME:  honey tossed lotus stem chips\n",
            "PRINTING DESC:  () NAME:  chilli garlic crispy vegetable\n",
            "PRINTING DESC:  () NAME:  bercos chill paneer\n",
            "PRINTING DESC:  () NAME:  chicken spring rolls\n",
            "PRINTING DESC:  () NAME:  chill garlic crispy chicken\n",
            "PRINTING DESC:  () NAME:  chicken pepper salt\n",
            "PRINTING DESC:  () NAME:  crispy honey chicken\n",
            "PRINTING DESC:  () NAME:  shredded chicken with dry red chillies\n",
            "PRINTING DESC:  () NAME:  bercos chilli chicken dry\n",
            "PRINTING DESC:  () NAME:  crispy chilli lamb\n",
            "PRINTING DESC:  () NAME:  crispy garlic chilli fish\n",
            "PRINTING DESC:  () NAME:  bercos chili prawns\n",
            "PRINTING DESC:  () NAME:  vegetable hot garlic sauce\n",
            "PRINTING DESC:  () NAME:  vegetable manchurian sauce\n",
            "PRINTING DESC:  () NAME:  baby corn, mushrooms, broccoli in chilli bean sauce\n",
            "PRINTING DESC:  () NAME:  kung pao mushrooms\n",
            "PRINTING DESC:  () NAME:  shredded potatoes in hot garlic sauce\n",
            "PRINTING DESC:  () NAME:  baby corn and mushroom in szechuan sauce\n",
            "reached last line\n",
            "EOF DONE\n",
            "{'vanilla ice-cream': '(two scoops)', 'darsan': '(crispy noodles sweetened with honey and served with vanilla ice cream)', 'brown zebra': '(rich and velvety eggless chocolate brownie topped with hazelnut)', 'date and walnut roll': '(date and walnut roll)', 'chocolate spring roll with ice cream': '(chocolate spring roll with ice cream)', 'dark lava meltdown': '(dessert with soft 8, moist chocolate sponge in a savarim shape filled wich peemium chocolate fillings)', 'death by chocolate': '(a sinful chocolate cake with a scoop of vanilla ice cream)', 'choco loving spoon': '(choco loving spoon)', 'red velvet jar': '(red velvet jar)'}\n",
            "{'hakka, noodles': '(vegetables / chicken)', 'chilli garlic noodles': '(vegetables / chicken)', 'singapore style noodles': '(traficional flour noodles cossed in sour sgisy sauce with vegetables/ chicken)', 'butter pepper garlic noodles': '(vegetables/chicken)', 'rice and noodles shanghai style': '(our chefs asicialisy of rice and noodles tomed with light seasoning with vegetables./chicken)', 'mix meat noodles': '(noodles tossed wich chicken, egg, lamb and prawns)'}\n",
            "{\"berco's chopsuey\": '(vegetable and chicken)', 'chinese chopsuey': '(chinese chopsuey)', 'american chopsuey': '(served with chicken, egg and topped with half fried egg)'}\n",
            "{'steamed rice': '(steamed rice)', 'garlic steamed rice': 'garlic steamed rice', 'corn fried rice': '(juicy corn kemels and ering fried garlic toned with lightly seasoned rice)', 'fried rice': '(vegeables/chick)', 'chilli garlic rice': '(vegetable/ chicken)', 'minced chicken chilli fried rice': 'minced chicken chilli fried rice', 'mix meat fried rice': '(rice tossed with chicken, ens. lamb and prawns)'}\n",
            "{'vegetables': '(crispy pan fried noodles topped with assorted vegetables and soya chilli sauce)', 'chicken': '(crispy pan fried noodles topped with sliced chicken and soya chilli sauce)'}\n",
            "{'fruit beer': 'fruit beer', 'midnicht beauty': '(cola served wish a scoop ef vanilla ice cram)', 'mojito': '(a cuban sociality made with mint or green apple or watermelon or strawberry)', 'passion fruit cooler': 'passion fruit cooler', 'pink lemonade': '(refreshing mix of pink, grage fruit and lemonade)', 'fresh mint lemonade': 'fresh mint lemonade', 'green apple cooler': 'green apple cooler', 'silver lining': '(lychee, pineapple juice, chocolate sauce, ice ceram and strawberry syrup)', 'virgin mary': '(a combination of tomate juice with sorcererstine sauce, tobaco and fresh lime)', 'pretty woman': '(mango juice, pineapple julce, ice cream and coconut cream syrup)', 'sweet memories': '(orange juice, mango juice, pinnaple juice, ice cream and granadine)'}\n",
            "{'bottled water': 'bottled water', 'pepsi': 'pepsi', 'mirinda': 'mirinda', '7up': '7up', 'diet pepsi': 'diet pepsi', 'fresh lime water/soda': 'fresh lime water/soda', 'ginger fizz': 'ginger fizz', 'juices': '(apple, pineapple, mango, orange, mix fruits)', 'icedteas': '(peach, lemon, mint, green apple)', 'cold coffee': 'cold coffee', 'cold coffee with ice cream': 'cold coffee with ice cream'}\n",
            "{'thai soggy basil': 'thai soggy basil', 'thai red curry': 'thai red curry', 'thai green curry': 'thai green curry'}\n",
            "{'vegetable/ chicken': 'vegetable/ chicken', 'shanghai bowl': '(shredded chicken or vegetable cooked in chinese spices)', 'bercos classic meal bowls': '(juicy slice chicken or panner cooked with premium soy fresh chillies and garlic)', 'szechuan style pan fried noodles': '(sliced chicken/ vegetables)', 'three pepper bowl': '(grilled chicken/ chottage cheese smoked bell pepper, crunchy green beans black pepper sauce )', 'kung pao bowl': '(chicken/mushrooms tossed in soay and smoked chillies served with rice/noodles)'}\n",
            "{'tom kha': '(mildly sweet and sour coconut milk soup with vegetable/chicken/prawn)', 'tom yum': '( the traditional sour and spicy clear soup flavoured wich lemon grass, galangal and lime juice with vegetable/chicken/prawn)'}\n",
            "{'thai spring roll': '(vegetable/minsed chicken and vermicelli wrafer this spring roll pastry fried oil crispy with vegetable/chicken)', 'crispy vegetable sweet chilli': 'crispy vegetable sweet chilli', 'chicken satay': '(tender chicken grilled with thai spices)', 'crispy fish with home made sweet chilli': 'crispy fish with home made sweet chilli'}\n",
            "{'yum woon sen': '(a glass noodle salad bursting wich chai herbs and spices)', 'som tum': '(a tangy salad made from young papaya with a hint of chillies'}\n",
            "{'exotic vegetables with basil chilli': 'exotic vegetables with basil chilli', 'wok fried chicken with basil chilli': 'wok fried chicken with basil chilli', 'thai red curry': '(a fiery red curry cooked with coconut milk with choice of vegetable/chicken/prawn)', 'thai green curry': '(a traditional curry nude with garden fresh green chillies,vegetale/chicken/prawn)', 'sliced fish with fresh basil and roasted chilli flakes': 'sliced fish with fresh basil and roasted chilli flakes'}\n",
            "{'rasil rice': '(vegetable/chichen)', 'pad trai noodle': '(traficional chai flat rice noodles wich choice of vegetables/chicken)', 'nutty pineapple fried rice': '(wok tossed fried rice wich pineapple with vegetables / chicken)'}\n",
            "{'shredded lamb in szechuan sauce': 'shredded lamb in szechuan sauce', 'sliced lamb in chilli bean sauce': 'sliced lamb in chilli bean sauce', 'shredded lamb in hot garlic sauce': 'shredded lamb in hot garlic sauce', 'moncolian lamb': '(sliced lumb marinated with chinese spice tossed and cooled wich soya and spring onions)', 'rendang lamb': '(south east arian curry with delicious flavours)'}\n",
            "{'sliced fish in szechuan sauce': 'sliced fish in szechuan sauce', 'sliced fish in mustard chill sauce': 'sliced fish in mustard chill sauce', 'sliced fish in hot garlic sauce': 'sliced fish in hot garlic sauce', 'grilled fish with roasted garlic and chillies': 'grilled fish with roasted garlic and chillies', 'sliced fish in chilli bean sauce': 'sliced fish in chilli bean sauce', 'lemon and coriander fish': 'lemon and coriander fish'}\n",
            "{'wok tossed prawn with broccoli in oyster sauce': 'wok tossed prawn with broccoli in oyster sauce', 'prawn in hot garlic sauce': 'prawn in hot garlic sauce', 'black pepper prawn': 'black pepper prawn', 'prawn in traditional chilli bean sauce': 'prawn in traditional chilli bean sauce', 'kung pao prawns': 'kung pao prawns'}\n",
            "{'manchow': '(vegetables/chicken thick soup skiped with garlic, green chilles and fresh corianders)', 'sweet corn': '(vegetables/chicken)', 'hot n sour': '(vegetables/chicken)', 'lemon & coriander': '(mushroom/chicken)', 'wonton soup': '(vegetables/chicken)', 'talumein': '(vegetables/chicken)', 'noodle soup with burnt garlic': '(vegetables/chicken)', 'thukpa': '(vegetables/chicken with a clear soup with noodles and vegetables)'}\n",
            "{'classic dimsum': '(vegetables/chicken)', 'fried dumplings with sweet chilli': '(vegetables/chicken)', 'pan fried kothe': '(vegetables/chicken)', 'dimsums-momos': '(choice of sauce szechuan, manchurian, black pepper, and vegetables/chicken)', 'dim sums ginger spring onion': '(vegetables/chicken light soya and young onion sauce)', 'thaicreen curry vegetables dumplings': 'thaicreen curry vegetables dumplings', 'chicken dumplings with lemon and thai red curry': 'chicken dumplings with lemon and thai red curry'}\n",
            "{'five spice chicken': '(crispy chicken topped with a special made flavoured wich chinese five spices)', 'chicken hongkong': '(diced chicken tempered with dry red chilly, ginger and spring oniont, cooled in soya chilli)', 'chicken manchurian': 'chicken manchurian', 'sliced chicken in creamy garlic sauce': 'sliced chicken in creamy garlic sauce', 'sliced chicken in black bean sauce': 'sliced chicken in black bean sauce', 'sliced chicken with asian green': '(stir fried chicken tosses with garden fresh greens with a hint of garlic and seseame oil)', 'clay pot chicken': '(slow cook chicken wich vegetable in a spicy sauce)', 'chicken in szechuan sauce': 'chicken in szechuan sauce', 'bercos chilli chicken': 'bercos chilli chicken', 'chicken in black pepper sauce': 'chicken in black pepper sauce', 'sliced chicken in chilli oyster sauce': 'sliced chicken in chilli oyster sauce', 'stir fried shredded chicken with ginger and wine': 'stir fried shredded chicken with ginger and wine', 'kung pao chicken': '(wok tossed chicken wich dry chilli in a soya ginger sauce with crunchy peanuts)', 'malah chicken': '(szechuan pepper and chilles spiced chicken', 'mongolian chicken': '(diced chicken cooled with ginger, celery chillies and star anise)'}\n",
            "{'crispy chilli potatoes': '(in-house speciality of crispy potatoes tossed which spicy sauce)', 'vegetable spring rolls': 'vegetable spring rolls', 'cheese and corn rolls': '(served with home made chilli sauce)', 'honey tossed lotus stem chips': 'honey tossed lotus stem chips', 'crispy tancy button mushrooms': '(cringy fried mushrooms tossed with onions, ginger and green chillies)', 'chilli garlic crispy vegetable': 'chilli garlic crispy vegetable', 'corn pepper salt': '(juicy corn kernels spiked wich freshly crushed pepper)', 'garlic and cheese wontons': '(served wich sweet chilli dip)', 'bercos chill paneer': 'bercos chill paneer'}\n",
            "{'chicken spring rolls': 'chicken spring rolls', 'chill garlic crispy chicken': 'chill garlic crispy chicken', 'chicken pepper salt': 'chicken pepper salt', 'juicy chicken drumsticks': '(popular dish of spicy chicken drumsticks seasoned with pepper and garlic)', 'chengdu mountain chicken': '(diced chicken tossed with dry chillies, szechuan peppers and five spice)', 'crispy honey chicken': 'crispy honey chicken', 'shredded chicken with dry red chillies': 'shredded chicken with dry red chillies', 'bercos chilli chicken dry': 'bercos chilli chicken dry', 'crispy chilli lamb': 'crispy chilli lamb', 'crispy garlic chilli fish': 'crispy garlic chilli fish', 'bercos chili prawns': 'bercos chili prawns', 'chilli mayo crispy prawns': '(fresh prawns marinated and golden fried served with spicy chillies mayonnaise)'}\n",
            "{'vegetable hot garlic sauce': 'vegetable hot garlic sauce', 'vegetable manchurian sauce': 'vegetable manchurian sauce', 'baby corn, mushrooms, broccoli in chilli bean sauce': 'baby corn, mushrooms, broccoli in chilli bean sauce', 'kung pao mushrooms': 'kung pao mushrooms', 'oriental vegetables sapo sauce': '(diced vegetables cooked in spicy sauce with celery served in a clay pos)', 'shredded potatoes in hot garlic sauce': 'shredded potatoes in hot garlic sauce', 'diced potato american corn in tsing hot sauce': '(potatoes ans sweet corn kernels in spicy sauce)', 'vegetables in creamy garlic sauce': '(assorted asian greens tossed in creamy garlic sauce with basil)', 'baby corn and mushroom in szechuan sauce': 'baby corn and mushroom in szechuan sauce', 'stir fried asian greens': '(chinese cabbage bok choy baby corn brocolli and zucchini tossed in classic light soya and rosted garlic)', 'cottage cheese in choice of sauce': '(with black pepper, hot garlic and chillis and peppers)', 'tofu and greens': '(chunks of silken tofu and chines greens toned in soya garlic sauce)', '': ''}\n",
            "MYLIST=----------\n",
            "['Desserts', 'noodles', 'chopsuey', 'rice', 'pan fried noodles', 'mocktails', 'beverages', 'thai curry combos', 'khow suey combo', 'thai soup', 'thai appetizer', 'thai salads', 'thai main course', 'thai rice and noodles', 'lamb', 'fish', 'prawn', 'chinese soup', 'chinese dimsums', 'chinese chicken', 'chinese veg appetizers', 'chinese non-veg appetizers', 'chinese veg mains']\n"
          ]
        }
      ]
    },
    {
      "cell_type": "code",
      "source": [
        "b_item_counter = 0\n",
        "m_item_counter = 0\n",
        "for i in list_categ_dicts_bercos: \n",
        "  b_item_counter+=len(i)\n",
        "\n",
        "for i in list_categ_dicts_mainland: \n",
        "  m_item_counter+=len(i)\n",
        "\n",
        "#for i in list_categ_dicts_bercos: \n",
        "#  print(i)\n",
        "\n",
        "b_num_item_per_category = {}\n",
        "for i in range(len(list_categories_bercos)): \n",
        "  #print(list_categories_bercos[i], \"\\n\", list_categ_dicts_bercos[i])\n",
        "  b_num_item_per_category[list_categories_bercos[i]] = len(list_categ_dicts_bercos[i])\n",
        "\n",
        "m_num_item_per_category = {}\n",
        "for i in range(len(list_categories_mainland)): \n",
        "  #print(list_categories_mainland[i], \"\\n\", list_categ_dicts_mainland[i])\n",
        "  m_num_item_per_category[list_categories_mainland[i]] = len(list_categ_dicts_mainland[i])\n",
        "\n",
        "\n",
        "print(\"Number of menu categories in Bercos Menu: \", len(list_categories_bercos))\n",
        "print(\"Number of item on the Bercos Menu: \", b_item_counter)\n",
        "print(\"Number of items per category: \")\n",
        "#print(b_num_item_per_category)\n",
        "for i in b_num_item_per_category: \n",
        "  print(i, \": \", b_num_item_per_category[i])\n",
        "print(\"\\n\\n\")\n",
        "\n",
        "\n",
        "bercos_pie = np.array(list(b_num_item_per_category.values()))\n",
        "mylabels = list(b_num_item_per_category.keys())\n",
        "plt.pie(bercos_pie, labels = mylabels)\n",
        "plt.show() \n",
        "\n",
        "\n",
        "print(\"\\n\\n\")\n",
        "print(\"Number of menu categories in Mainland Menu: \", len(list_categories_mainland))\n",
        "print(\"Number of item on the Mainland Menu: \", m_item_counter)\n",
        "print(\"Number of items per category: \")\n",
        "#print(m_num_item_per_category)\n",
        "for i in m_num_item_per_category: \n",
        "  print(i, \": \", m_num_item_per_category[i])\n",
        "print(\"\\n\\n\")\n",
        "\n",
        "\n",
        "bercos_pie = np.array(list(m_num_item_per_category.values()))\n",
        "mylabels = list(m_num_item_per_category.keys())\n",
        "plt.pie(bercos_pie, labels = mylabels)\n",
        "plt.show()\n",
        "\n"
      ],
      "metadata": {
        "colab": {
          "base_uri": "https://localhost:8080/",
          "height": 1000
        },
        "id": "qNfoce85kEby",
        "outputId": "18feb677-5f9f-4fa3-d13f-920dd8306cba"
      },
      "execution_count": null,
      "outputs": [
        {
          "output_type": "stream",
          "name": "stdout",
          "text": [
            "Number of menu categories in Bercos Menu:  23\n",
            "Number of item on the Bercos Menu:  154\n",
            "Number of items per category: \n",
            "Desserts :  9\n",
            "noodles :  6\n",
            "chopsuey :  3\n",
            "rice :  7\n",
            "pan fried noodles :  2\n",
            "mocktails :  11\n",
            "beverages :  11\n",
            "thai curry combos :  3\n",
            "khow suey combo :  6\n",
            "thai soup :  2\n",
            "thai appetizer :  4\n",
            "thai salads :  2\n",
            "thai main course :  5\n",
            "thai rice and noodles :  3\n",
            "lamb :  5\n",
            "fish :  6\n",
            "prawn :  5\n",
            "chinese soup :  8\n",
            "chinese dimsums :  7\n",
            "chinese chicken :  15\n",
            "chinese veg appetizers :  9\n",
            "chinese non-veg appetizers :  12\n",
            "chinese veg mains :  13\n",
            "\n",
            "\n",
            "\n"
          ]
        },
        {
          "output_type": "display_data",
          "data": {
            "text/plain": [
              "<Figure size 432x288 with 1 Axes>"
            ],
            "image/png": "[encoded data removed]"
          },
          "metadata": {}
        },
        {
          "output_type": "stream",
          "name": "stdout",
          "text": [
            "\n",
            "\n",
            "\n",
            "Number of menu categories in Mainland Menu:  24\n",
            "Number of item on the Mainland Menu:  157\n",
            "Number of items per category: \n",
            "Jain Dimsums :  4\n",
            "jain appetizers :  10\n",
            "jain soups :  5\n",
            "jain main course :  5\n",
            "jain rice and noodles :  5\n",
            "dimsums- vegetarian :  6\n",
            "dimsums- non vegetarian :  5\n",
            "sushi :  5\n",
            "open bao :  2\n",
            "appetizers :  15\n",
            "seafood appetizers :  8\n",
            "poultry appetizers :  11\n",
            "lamb appetizers :  2\n",
            "soups- vegetarian :  7\n",
            "soups - non vegetarian :  8\n",
            "main course - vegetarian :  11\n",
            "seafood main course :  6\n",
            "fish main course :  5\n",
            "poultry main course :  11\n",
            "lamb main course :  3\n",
            "rice - vegetarian :  6\n",
            "rice - non vegetarian :  7\n",
            "noodles - vegetarian :  6\n",
            "noodles - non vegetarian :  4\n",
            "\n",
            "\n",
            "\n"
          ]
        },
        {
          "output_type": "display_data",
          "data": {
            "text/plain": [
              "<Figure size 432x288 with 1 Axes>"
            ],
            "image/png": "[encoded data removed]"
          },
          "metadata": {}
        }
      ]
    },
    {
      "cell_type": "code",
      "source": [
        "class_dict_bercos = {\n",
        "    \"chinese\": [], \n",
        "    \"thai\":[], \n",
        "    'desserts and drinks': [],   \n",
        "    'other': []}\n",
        "\n",
        "for i in range(len(list_categories_bercos)): \n",
        "  if \"chinese\" in list_categories_bercos[i]: \n",
        "    class_dict_bercos[\"chinese\"] += [i]\n",
        "  elif \"thai\" in list_categories_bercos[i]: \n",
        "    class_dict_bercos[\"thai\"] +=[i]\n",
        "  elif (\"Desserts\" in list_categories_bercos[i]) or (\"mocktails\" in list_categories_bercos[i]) or (\"beverages\" in list_categories_bercos[i]): \n",
        "    class_dict_bercos['desserts and drinks'] +=[i]\n",
        "  else: \n",
        "    class_dict_bercos[\"other\"] +=[i]\n",
        "\n",
        "pie_b_dict = class_dict_bercos.copy()\n",
        "for i in class_dict_bercos:\n",
        "  temp_num = 0\n",
        "  #print(class_dict_bercos[i])\n",
        "  for j in class_dict_bercos[i]: \n",
        "    #dict_A[list(dict_A.keys())[i]]\n",
        "    temp_num+=b_num_item_per_category[list(b_num_item_per_category.keys())[j]]\n",
        "    pie_b_dict[i] = temp_num\n",
        "    #print(b_num_item_per_category[list(b_num_item_per_category.keys())[j]])\n",
        "\n",
        "    #print(j)\n",
        "\n",
        "\n",
        "print(pie_b_dict)\n",
        "\n",
        "bercos_pie = np.array(list(pie_b_dict.values()))\n",
        "mylabels = list(pie_b_dict.keys())\n",
        "plt.pie(bercos_pie, labels = mylabels)\n",
        "plt.show() \n"
      ],
      "metadata": {
        "colab": {
          "base_uri": "https://localhost:8080/",
          "height": 266
        },
        "id": "MkTalTwsBDip",
        "outputId": "d9e34672-b104-4669-f6b0-e6f0fc04420d"
      },
      "execution_count": null,
      "outputs": [
        {
          "output_type": "stream",
          "name": "stdout",
          "text": [
            "{'chinese': 64, 'thai': 19, 'desserts and drinks': 31, 'other': 40}\n"
          ]
        },
        {
          "output_type": "display_data",
          "data": {
            "text/plain": [
              "<Figure size 432x288 with 1 Axes>"
            ],
            "image/png": "[encoded data removed]"
          },
          "metadata": {}
        }
      ]
    },
    {
      "cell_type": "code",
      "source": [
        "class_dict_mainland = {\n",
        "    \"jain\": [], \n",
        "    \"appetizers\":[],  \n",
        "    \"main course\": [], \n",
        "    'other': []}\n",
        "\n",
        "for i in range(len(list_categories_mainland)): \n",
        "  if \"jain\" in (list_categories_mainland[i]).lower(): \n",
        "    class_dict_mainland[\"jain\"] += [i]\n",
        "  elif \"appetizers\" in list_categories_mainland[i]: \n",
        "    class_dict_mainland[\"appetizers\"] +=[i]\n",
        "  elif \"main course\" in list_categories_mainland[i]: \n",
        "    class_dict_mainland[\"main course\"] +=[i]\n",
        "  else: \n",
        "    class_dict_mainland[\"other\"] +=[i]\n",
        "\n",
        "pie_m_dict = class_dict_mainland.copy()\n",
        "for i in class_dict_mainland:\n",
        "  temp_num = 0\n",
        "  #print(class_dict_bercos[i])\n",
        "  for j in class_dict_mainland[i]: \n",
        "    #dict_A[list(dict_A.keys())[i]]\n",
        "    temp_num+=m_num_item_per_category[list(m_num_item_per_category.keys())[j]]\n",
        "    pie_m_dict[i] = temp_num\n",
        "    #print(b_num_item_per_category[list(b_num_item_per_category.keys())[j]])\n",
        "    #print(j)\n",
        "\n",
        "\n",
        "print(pie_m_dict)\n",
        "\n",
        "mainland_pie = np.array(list(pie_m_dict.values()))\n",
        "mylabels = list(pie_m_dict.keys())\n",
        "plt.pie(mainland_pie, labels = mylabels)\n",
        "plt.show() \n"
      ],
      "metadata": {
        "colab": {
          "base_uri": "https://localhost:8080/",
          "height": 266
        },
        "id": "b_jLAk9w9u_q",
        "outputId": "b42f3c72-c416-478c-94c7-3dc0b4839ef1"
      },
      "execution_count": null,
      "outputs": [
        {
          "output_type": "stream",
          "name": "stdout",
          "text": [
            "{'jain': 29, 'appetizers': 36, 'main course': 36, 'other': 56}\n"
          ]
        },
        {
          "output_type": "display_data",
          "data": {
            "text/plain": [
              "<Figure size 432x288 with 1 Axes>"
            ],
            "image/png": "[encoded data removed]"
          },
          "metadata": {}
        }
      ]
    },
    {
      "cell_type": "markdown",
      "source": [
        "Based on our first observations, we can see there are a couple of main categories popping up. "
      ],
      "metadata": {
        "id": "NGfaXr9v9odw"
      }
    },
    {
      "cell_type": "code",
      "source": [
        "print(\"mAINLAND: \", list_categories_mainland)\n",
        "for i in list_categories_mainland: \n",
        "  print(i)\n",
        "print()\n",
        "#print(\"Mainland: \", list_categories_mainland)\n",
        "breakdown_list1 = [\"Desserts\", \"Appetizer\", 'Main Course', 'Drinks']\n",
        "breakdown_dict3 = {}\n",
        "for i in breakdown_list1: \n",
        "  breakdown_dict3[i] = []\n",
        "\n",
        "for i in range(0, len(list_categories_mainland)):\n",
        "  if \"appetizer\" in list_categories_mainland[i]: \n",
        "    breakdown_dict3['Appetizer'] += [i]\n",
        "  else: \n",
        "    breakdown_dict3['Main Course'] += [i]\n",
        "\n",
        " \n",
        "breakdown_dict4 = {}\n",
        "for i in breakdown_list1:\n",
        "  breakdown_dict4[i] = 0\n",
        "\n",
        "for i in breakdown_dict3: \n",
        "  for j in breakdown_dict3[i]: \n",
        "    breakdown_dict4[i] += len(list_categ_dicts_mainland[j])\n",
        "  print()\n",
        "print(breakdown_dict4)"
      ],
      "metadata": {
        "colab": {
          "base_uri": "https://localhost:8080/"
        },
        "id": "S4Rsb_0zOGvj",
        "outputId": "9d1c4be1-d67e-46ac-9f56-df180fb375ca"
      },
      "execution_count": null,
      "outputs": [
        {
          "output_type": "stream",
          "name": "stdout",
          "text": [
            "mAINLAND:  ['Jain Dimsums', 'jain appetizers', 'jain soups', 'jain main course', 'jain rice and noodles', 'dimsums- vegetarian', 'dimsums- non vegetarian', 'sushi', 'open bao', 'appetizers', 'seafood appetizers', 'poultry appetizers', 'lamb appetizers', 'soups- vegetarian', 'soups - non vegetarian', 'main course - vegetarian', 'seafood main course', 'fish main course', 'poultry main course', 'lamb main course', 'rice - vegetarian', 'rice - non vegetarian', 'noodles - vegetarian', 'noodles - non vegetarian']\n",
            "Jain Dimsums\n",
            "jain appetizers\n",
            "jain soups\n",
            "jain main course\n",
            "jain rice and noodles\n",
            "dimsums- vegetarian\n",
            "dimsums- non vegetarian\n",
            "sushi\n",
            "open bao\n",
            "appetizers\n",
            "seafood appetizers\n",
            "poultry appetizers\n",
            "lamb appetizers\n",
            "soups- vegetarian\n",
            "soups - non vegetarian\n",
            "main course - vegetarian\n",
            "seafood main course\n",
            "fish main course\n",
            "poultry main course\n",
            "lamb main course\n",
            "rice - vegetarian\n",
            "rice - non vegetarian\n",
            "noodles - vegetarian\n",
            "noodles - non vegetarian\n",
            "\n",
            "\n",
            "\n",
            "\n",
            "\n",
            "{'Desserts': 0, 'Appetizer': 46, 'Main Course': 111, 'Drinks': 0}\n"
          ]
        }
      ]
    },
    {
      "cell_type": "code",
      "source": [
        "print(\"Bercos: \", list_categories_bercos)\n",
        "for i in list_categories_bercos: \n",
        "  print(i)\n",
        "print()\n",
        "#print(\"Mainland: \", list_categories_mainland)\n",
        "breakdown_list1 = [\"Desserts\", \"Appetizer\", 'Main Course', 'Drinks']\n",
        "breakdown_dict1 = {}\n",
        "for i in breakdown_list1: \n",
        "  breakdown_dict1[i] = []\n",
        "\n",
        "for i in range(0, len(list_categories_bercos)):\n",
        "  if \"appetizer\" in list_categories_bercos[i]: \n",
        "    breakdown_dict1['Appetizer'] += [i]\n",
        "  elif 'Desserts' in list_categories_bercos[i]: \n",
        "    breakdown_dict1['Desserts'] += [i]\n",
        "  elif (\"mocktails\" in list_categories_bercos[i]) or ('beverage' in list_categories_bercos[i]): \n",
        "    breakdown_dict1['Drinks'] += [i]\n",
        "  else: \n",
        "    breakdown_dict1['Main Course'] += [i]\n",
        "\n",
        " \n",
        "breakdown_dict2 = {}\n",
        "for i in breakdown_list1:\n",
        "  breakdown_dict2[i] = 0\n",
        "\n",
        "for i in breakdown_dict1: \n",
        "  for j in breakdown_dict1[i]: \n",
        "    breakdown_dict2[i] += len(list_categ_dicts_bercos[j])\n",
        "  print()\n",
        "print(list(breakdown_dict2.keys()))\n"
      ],
      "metadata": {
        "colab": {
          "base_uri": "https://localhost:8080/"
        },
        "id": "eVwNXnnxn3eM",
        "outputId": "2eec28b7-931e-47c4-a68e-0dacc4d4ff57"
      },
      "execution_count": null,
      "outputs": [
        {
          "output_type": "stream",
          "name": "stdout",
          "text": [
            "Bercos:  ['Desserts', 'noodles', 'chopsuey', 'rice', 'pan fried noodles', 'mocktails', 'beverages', 'thai curry combos', 'khow suey combo', 'thai soup', 'thai appetizer', 'thai salads', 'thai main course', 'thai rice and noodles', 'lamb', 'fish', 'prawn', 'chinese soup', 'chinese dimsums', 'chinese chicken', 'chinese veg appetizers', 'chinese non-veg appetizers', 'chinese veg mains']\n",
            "Desserts\n",
            "noodles\n",
            "chopsuey\n",
            "rice\n",
            "pan fried noodles\n",
            "mocktails\n",
            "beverages\n",
            "thai curry combos\n",
            "khow suey combo\n",
            "thai soup\n",
            "thai appetizer\n",
            "thai salads\n",
            "thai main course\n",
            "thai rice and noodles\n",
            "lamb\n",
            "fish\n",
            "prawn\n",
            "chinese soup\n",
            "chinese dimsums\n",
            "chinese chicken\n",
            "chinese veg appetizers\n",
            "chinese non-veg appetizers\n",
            "chinese veg mains\n",
            "\n",
            "\n",
            "\n",
            "\n",
            "\n",
            "['Desserts', 'Appetizer', 'Main Course', 'Drinks']\n"
          ]
        }
      ]
    },
    {
      "cell_type": "code",
      "source": [
        "category = list(breakdown_dict2.keys())\n",
        "bercos = list(breakdown_dict2.values())\n",
        "mainland = list(breakdown_dict4.values())\n",
        "x_axis = np.arange(len(category))\n",
        "# Multi bar Chart\n",
        "plt.bar(x_axis -0.2, bercos, width=0.37, label = 'Bercos')\n",
        "plt.bar(x_axis +0.2, mainland, width=0.37, label = 'Mainland')\n",
        "# Xticks\n",
        "plt.xticks(x_axis, category)\n",
        "plt.legend()\n",
        "plt.ylabel(\"Common categories\")\n",
        "plt.xlabel(\"Number of items\")\n",
        "plt.show()"
      ],
      "metadata": {
        "colab": {
          "base_uri": "https://localhost:8080/",
          "height": 279
        },
        "id": "oFTiUIyTA7ON",
        "outputId": "ae9d1640-bf51-4b0f-ebcb-6749d4e45585"
      },
      "execution_count": null,
      "outputs": [
        {
          "output_type": "display_data",
          "data": {
            "text/plain": [
              "<Figure size 432x288 with 1 Axes>"
            ],
            "image/png": "[encoded data removed]"
          },
          "metadata": {
            "needs_background": "light"
          }
        }
      ]
    },
    {
      "cell_type": "code",
      "source": [
        "berco_breakdown = {}\n",
        "for i in breakdown_list1:\n",
        "  berco_breakdown[i] = []\n",
        "\n",
        "for i in breakdown_dict1: \n",
        "  for j in breakdown_dict1[i]: \n",
        "    #print(list_categ_dicts_bercos[j])\n",
        "    berco_breakdown[i].append(list_categ_dicts_bercos[j])\n",
        "\n",
        "for i in berco_breakdown: \n",
        "  print(berco_breakdown[i])"
      ],
      "metadata": {
        "colab": {
          "base_uri": "https://localhost:8080/"
        },
        "id": "pk5NuAbRS040",
        "outputId": "d417149e-c42d-4b9c-9585-1d636b03472f"
      },
      "execution_count": null,
      "outputs": [
        {
          "output_type": "stream",
          "name": "stdout",
          "text": [
            "[{'vanilla ice-cream': '(two scoops)', 'darsan': '(crispy noodles sweetened with honey and served with vanilla ice cream)', 'brown zebra': '(rich and velvety eggless chocolate brownie topped with hazelnut)', 'date and walnut roll': '(date and walnut roll)', 'chocolate spring roll with ice cream': '(chocolate spring roll with ice cream)', 'dark lava meltdown': '(dessert with soft 8, moist chocolate sponge in a savarim shape filled wich peemium chocolate fillings)', 'death by chocolate': '(a sinful chocolate cake with a scoop of vanilla ice cream)', 'choco loving spoon': '(choco loving spoon)', 'red velvet jar': '(red velvet jar)'}]\n",
            "[{'thai spring roll': '(vegetable/minsed chicken and vermicelli wrafer this spring roll pastry fried oil crispy with vegetable/chicken)', 'crispy vegetable sweet chilli': 'crispy vegetable sweet chilli', 'chicken satay': '(tender chicken grilled with thai spices)', 'crispy fish with home made sweet chilli': 'crispy fish with home made sweet chilli'}, {'crispy chilli potatoes': '(in-house speciality of crispy potatoes tossed which spicy sauce)', 'vegetable spring rolls': 'vegetable spring rolls', 'cheese and corn rolls': '(served with home made chilli sauce)', 'honey tossed lotus stem chips': 'honey tossed lotus stem chips', 'crispy tancy button mushrooms': '(cringy fried mushrooms tossed with onions, ginger and green chillies)', 'chilli garlic crispy vegetable': 'chilli garlic crispy vegetable', 'corn pepper salt': '(juicy corn kernels spiked wich freshly crushed pepper)', 'garlic and cheese wontons': '(served wich sweet chilli dip)', 'bercos chill paneer': 'bercos chill paneer'}, {'chicken spring rolls': 'chicken spring rolls', 'chill garlic crispy chicken': 'chill garlic crispy chicken', 'chicken pepper salt': 'chicken pepper salt', 'juicy chicken drumsticks': '(popular dish of spicy chicken drumsticks seasoned with pepper and garlic)', 'chengdu mountain chicken': '(diced chicken tossed with dry chillies, szechuan peppers and five spice)', 'crispy honey chicken': 'crispy honey chicken', 'shredded chicken with dry red chillies': 'shredded chicken with dry red chillies', 'bercos chilli chicken dry': 'bercos chilli chicken dry', 'crispy chilli lamb': 'crispy chilli lamb', 'crispy garlic chilli fish': 'crispy garlic chilli fish', 'bercos chili prawns': 'bercos chili prawns', 'chilli mayo crispy prawns': '(fresh prawns marinated and golden fried served with spicy chillies mayonnaise)'}]\n",
            "[{'hakka, noodles': '(vegetables / chicken)', 'chilli garlic noodles': '(vegetables / chicken)', 'singapore style noodles': '(traficional flour noodles cossed in sour sgisy sauce with vegetables/ chicken)', 'butter pepper garlic noodles': '(vegetables/chicken)', 'rice and noodles shanghai style': '(our chefs asicialisy of rice and noodles tomed with light seasoning with vegetables./chicken)', 'mix meat noodles': '(noodles tossed wich chicken, egg, lamb and prawns)'}, {\"berco's chopsuey\": '(vegetable and chicken)', 'chinese chopsuey': '(chinese chopsuey)', 'american chopsuey': '(served with chicken, egg and topped with half fried egg)'}, {'steamed rice': '(steamed rice)', 'garlic steamed rice': 'garlic steamed rice', 'corn fried rice': '(juicy corn kemels and ering fried garlic toned with lightly seasoned rice)', 'fried rice': '(vegeables/chick)', 'chilli garlic rice': '(vegetable/ chicken)', 'minced chicken chilli fried rice': 'minced chicken chilli fried rice', 'mix meat fried rice': '(rice tossed with chicken, ens. lamb and prawns)'}, {'vegetables': '(crispy pan fried noodles topped with assorted vegetables and soya chilli sauce)', 'chicken': '(crispy pan fried noodles topped with sliced chicken and soya chilli sauce)'}, {'thai soggy basil': 'thai soggy basil', 'thai red curry': 'thai red curry', 'thai green curry': 'thai green curry'}, {'vegetable/ chicken': 'vegetable/ chicken', 'shanghai bowl': '(shredded chicken or vegetable cooked in chinese spices)', 'bercos classic meal bowls': '(juicy slice chicken or panner cooked with premium soy fresh chillies and garlic)', 'szechuan style pan fried noodles': '(sliced chicken/ vegetables)', 'three pepper bowl': '(grilled chicken/ chottage cheese smoked bell pepper, crunchy green beans black pepper sauce )', 'kung pao bowl': '(chicken/mushrooms tossed in soay and smoked chillies served with rice/noodles)'}, {'tom kha': '(mildly sweet and sour coconut milk soup with vegetable/chicken/prawn)', 'tom yum': '( the traditional sour and spicy clear soup flavoured wich lemon grass, galangal and lime juice with vegetable/chicken/prawn)'}, {'yum woon sen': '(a glass noodle salad bursting wich chai herbs and spices)', 'som tum': '(a tangy salad made from young papaya with a hint of chillies'}, {'exotic vegetables with basil chilli': 'exotic vegetables with basil chilli', 'wok fried chicken with basil chilli': 'wok fried chicken with basil chilli', 'thai red curry': '(a fiery red curry cooked with coconut milk with choice of vegetable/chicken/prawn)', 'thai green curry': '(a traditional curry nude with garden fresh green chillies,vegetale/chicken/prawn)', 'sliced fish with fresh basil and roasted chilli flakes': 'sliced fish with fresh basil and roasted chilli flakes'}, {'rasil rice': '(vegetable/chichen)', 'pad trai noodle': '(traficional chai flat rice noodles wich choice of vegetables/chicken)', 'nutty pineapple fried rice': '(wok tossed fried rice wich pineapple with vegetables / chicken)'}, {'shredded lamb in szechuan sauce': 'shredded lamb in szechuan sauce', 'sliced lamb in chilli bean sauce': 'sliced lamb in chilli bean sauce', 'shredded lamb in hot garlic sauce': 'shredded lamb in hot garlic sauce', 'moncolian lamb': '(sliced lumb marinated with chinese spice tossed and cooled wich soya and spring onions)', 'rendang lamb': '(south east arian curry with delicious flavours)'}, {'sliced fish in szechuan sauce': 'sliced fish in szechuan sauce', 'sliced fish in mustard chill sauce': 'sliced fish in mustard chill sauce', 'sliced fish in hot garlic sauce': 'sliced fish in hot garlic sauce', 'grilled fish with roasted garlic and chillies': 'grilled fish with roasted garlic and chillies', 'sliced fish in chilli bean sauce': 'sliced fish in chilli bean sauce', 'lemon and coriander fish': 'lemon and coriander fish'}, {'wok tossed prawn with broccoli in oyster sauce': 'wok tossed prawn with broccoli in oyster sauce', 'prawn in hot garlic sauce': 'prawn in hot garlic sauce', 'black pepper prawn': 'black pepper prawn', 'prawn in traditional chilli bean sauce': 'prawn in traditional chilli bean sauce', 'kung pao prawns': 'kung pao prawns'}, {'manchow': '(vegetables/chicken thick soup skiped with garlic, green chilles and fresh corianders)', 'sweet corn': '(vegetables/chicken)', 'hot n sour': '(vegetables/chicken)', 'lemon & coriander': '(mushroom/chicken)', 'wonton soup': '(vegetables/chicken)', 'talumein': '(vegetables/chicken)', 'noodle soup with burnt garlic': '(vegetables/chicken)', 'thukpa': '(vegetables/chicken with a clear soup with noodles and vegetables)'}, {'classic dimsum': '(vegetables/chicken)', 'fried dumplings with sweet chilli': '(vegetables/chicken)', 'pan fried kothe': '(vegetables/chicken)', 'dimsums-momos': '(choice of sauce szechuan, manchurian, black pepper, and vegetables/chicken)', 'dim sums ginger spring onion': '(vegetables/chicken light soya and young onion sauce)', 'thaicreen curry vegetables dumplings': 'thaicreen curry vegetables dumplings', 'chicken dumplings with lemon and thai red curry': 'chicken dumplings with lemon and thai red curry'}, {'five spice chicken': '(crispy chicken topped with a special made flavoured wich chinese five spices)', 'chicken hongkong': '(diced chicken tempered with dry red chilly, ginger and spring oniont, cooled in soya chilli)', 'chicken manchurian': 'chicken manchurian', 'sliced chicken in creamy garlic sauce': 'sliced chicken in creamy garlic sauce', 'sliced chicken in black bean sauce': 'sliced chicken in black bean sauce', 'sliced chicken with asian green': '(stir fried chicken tosses with garden fresh greens with a hint of garlic and seseame oil)', 'clay pot chicken': '(slow cook chicken wich vegetable in a spicy sauce)', 'chicken in szechuan sauce': 'chicken in szechuan sauce', 'bercos chilli chicken': 'bercos chilli chicken', 'chicken in black pepper sauce': 'chicken in black pepper sauce', 'sliced chicken in chilli oyster sauce': 'sliced chicken in chilli oyster sauce', 'stir fried shredded chicken with ginger and wine': 'stir fried shredded chicken with ginger and wine', 'kung pao chicken': '(wok tossed chicken wich dry chilli in a soya ginger sauce with crunchy peanuts)', 'malah chicken': '(szechuan pepper and chilles spiced chicken', 'mongolian chicken': '(diced chicken cooled with ginger, celery chillies and star anise)'}, {'vegetable hot garlic sauce': 'vegetable hot garlic sauce', 'vegetable manchurian sauce': 'vegetable manchurian sauce', 'baby corn, mushrooms, broccoli in chilli bean sauce': 'baby corn, mushrooms, broccoli in chilli bean sauce', 'kung pao mushrooms': 'kung pao mushrooms', 'oriental vegetables sapo sauce': '(diced vegetables cooked in spicy sauce with celery served in a clay pos)', 'shredded potatoes in hot garlic sauce': 'shredded potatoes in hot garlic sauce', 'diced potato american corn in tsing hot sauce': '(potatoes ans sweet corn kernels in spicy sauce)', 'vegetables in creamy garlic sauce': '(assorted asian greens tossed in creamy garlic sauce with basil)', 'baby corn and mushroom in szechuan sauce': 'baby corn and mushroom in szechuan sauce', 'stir fried asian greens': '(chinese cabbage bok choy baby corn brocolli and zucchini tossed in classic light soya and rosted garlic)', 'cottage cheese in choice of sauce': '(with black pepper, hot garlic and chillis and peppers)', 'tofu and greens': '(chunks of silken tofu and chines greens toned in soya garlic sauce)', '': ''}]\n",
            "[{'fruit beer': 'fruit beer', 'midnicht beauty': '(cola served wish a scoop ef vanilla ice cram)', 'mojito': '(a cuban sociality made with mint or green apple or watermelon or strawberry)', 'passion fruit cooler': 'passion fruit cooler', 'pink lemonade': '(refreshing mix of pink, grage fruit and lemonade)', 'fresh mint lemonade': 'fresh mint lemonade', 'green apple cooler': 'green apple cooler', 'silver lining': '(lychee, pineapple juice, chocolate sauce, ice ceram and strawberry syrup)', 'virgin mary': '(a combination of tomate juice with sorcererstine sauce, tobaco and fresh lime)', 'pretty woman': '(mango juice, pineapple julce, ice cream and coconut cream syrup)', 'sweet memories': '(orange juice, mango juice, pinnaple juice, ice cream and granadine)'}, {'bottled water': 'bottled water', 'pepsi': 'pepsi', 'mirinda': 'mirinda', '7up': '7up', 'diet pepsi': 'diet pepsi', 'fresh lime water/soda': 'fresh lime water/soda', 'ginger fizz': 'ginger fizz', 'juices': '(apple, pineapple, mango, orange, mix fruits)', 'icedteas': '(peach, lemon, mint, green apple)', 'cold coffee': 'cold coffee', 'cold coffee with ice cream': 'cold coffee with ice cream'}]\n"
          ]
        }
      ]
    },
    {
      "cell_type": "code",
      "source": [
        "mainland_breakdown = {}\n",
        "for i in breakdown_list1:\n",
        "  mainland_breakdown[i] = []\n",
        "\n",
        "for i in breakdown_dict3: \n",
        "  for j in breakdown_dict3[i]: \n",
        "    #print(list_categ_dicts_bercos[j])\n",
        "    mainland_breakdown[i].append(list_categ_dicts_mainland[j])\n",
        "\n",
        "for i in berco_breakdown: \n",
        "  print(berco_breakdown[i])"
      ],
      "metadata": {
        "colab": {
          "base_uri": "https://localhost:8080/"
        },
        "id": "j5a6JMfhG0AB",
        "outputId": "6228007e-ded1-4237-fa07-8ccdb849e7f5"
      },
      "execution_count": null,
      "outputs": [
        {
          "output_type": "stream",
          "name": "stdout",
          "text": [
            "[{'vanilla ice-cream': '(two scoops)', 'darsan': '(crispy noodles sweetened with honey and served with vanilla ice cream)', 'brown zebra': '(rich and velvety eggless chocolate brownie topped with hazelnut)', 'date and walnut roll': '(date and walnut roll)', 'chocolate spring roll with ice cream': '(chocolate spring roll with ice cream)', 'dark lava meltdown': '(dessert with soft 8, moist chocolate sponge in a savarim shape filled wich peemium chocolate fillings)', 'death by chocolate': '(a sinful chocolate cake with a scoop of vanilla ice cream)', 'choco loving spoon': '(choco loving spoon)', 'red velvet jar': '(red velvet jar)'}]\n",
            "[{'thai spring roll': '(vegetable/minsed chicken and vermicelli wrafer this spring roll pastry fried oil crispy with vegetable/chicken)', 'crispy vegetable sweet chilli': 'crispy vegetable sweet chilli', 'chicken satay': '(tender chicken grilled with thai spices)', 'crispy fish with home made sweet chilli': 'crispy fish with home made sweet chilli'}, {'crispy chilli potatoes': '(in-house speciality of crispy potatoes tossed which spicy sauce)', 'vegetable spring rolls': 'vegetable spring rolls', 'cheese and corn rolls': '(served with home made chilli sauce)', 'honey tossed lotus stem chips': 'honey tossed lotus stem chips', 'crispy tancy button mushrooms': '(cringy fried mushrooms tossed with onions, ginger and green chillies)', 'chilli garlic crispy vegetable': 'chilli garlic crispy vegetable', 'corn pepper salt': '(juicy corn kernels spiked wich freshly crushed pepper)', 'garlic and cheese wontons': '(served wich sweet chilli dip)', 'bercos chill paneer': 'bercos chill paneer'}, {'chicken spring rolls': 'chicken spring rolls', 'chill garlic crispy chicken': 'chill garlic crispy chicken', 'chicken pepper salt': 'chicken pepper salt', 'juicy chicken drumsticks': '(popular dish of spicy chicken drumsticks seasoned with pepper and garlic)', 'chengdu mountain chicken': '(diced chicken tossed with dry chillies, szechuan peppers and five spice)', 'crispy honey chicken': 'crispy honey chicken', 'shredded chicken with dry red chillies': 'shredded chicken with dry red chillies', 'bercos chilli chicken dry': 'bercos chilli chicken dry', 'crispy chilli lamb': 'crispy chilli lamb', 'crispy garlic chilli fish': 'crispy garlic chilli fish', 'bercos chili prawns': 'bercos chili prawns', 'chilli mayo crispy prawns': '(fresh prawns marinated and golden fried served with spicy chillies mayonnaise)'}]\n",
            "[{'hakka, noodles': '(vegetables / chicken)', 'chilli garlic noodles': '(vegetables / chicken)', 'singapore style noodles': '(traficional flour noodles cossed in sour sgisy sauce with vegetables/ chicken)', 'butter pepper garlic noodles': '(vegetables/chicken)', 'rice and noodles shanghai style': '(our chefs asicialisy of rice and noodles tomed with light seasoning with vegetables./chicken)', 'mix meat noodles': '(noodles tossed wich chicken, egg, lamb and prawns)'}, {\"berco's chopsuey\": '(vegetable and chicken)', 'chinese chopsuey': '(chinese chopsuey)', 'american chopsuey': '(served with chicken, egg and topped with half fried egg)'}, {'steamed rice': '(steamed rice)', 'garlic steamed rice': 'garlic steamed rice', 'corn fried rice': '(juicy corn kemels and ering fried garlic toned with lightly seasoned rice)', 'fried rice': '(vegeables/chick)', 'chilli garlic rice': '(vegetable/ chicken)', 'minced chicken chilli fried rice': 'minced chicken chilli fried rice', 'mix meat fried rice': '(rice tossed with chicken, ens. lamb and prawns)'}, {'vegetables': '(crispy pan fried noodles topped with assorted vegetables and soya chilli sauce)', 'chicken': '(crispy pan fried noodles topped with sliced chicken and soya chilli sauce)'}, {'thai soggy basil': 'thai soggy basil', 'thai red curry': 'thai red curry', 'thai green curry': 'thai green curry'}, {'vegetable/ chicken': 'vegetable/ chicken', 'shanghai bowl': '(shredded chicken or vegetable cooked in chinese spices)', 'bercos classic meal bowls': '(juicy slice chicken or panner cooked with premium soy fresh chillies and garlic)', 'szechuan style pan fried noodles': '(sliced chicken/ vegetables)', 'three pepper bowl': '(grilled chicken/ chottage cheese smoked bell pepper, crunchy green beans black pepper sauce )', 'kung pao bowl': '(chicken/mushrooms tossed in soay and smoked chillies served with rice/noodles)'}, {'tom kha': '(mildly sweet and sour coconut milk soup with vegetable/chicken/prawn)', 'tom yum': '( the traditional sour and spicy clear soup flavoured wich lemon grass, galangal and lime juice with vegetable/chicken/prawn)'}, {'yum woon sen': '(a glass noodle salad bursting wich chai herbs and spices)', 'som tum': '(a tangy salad made from young papaya with a hint of chillies'}, {'exotic vegetables with basil chilli': 'exotic vegetables with basil chilli', 'wok fried chicken with basil chilli': 'wok fried chicken with basil chilli', 'thai red curry': '(a fiery red curry cooked with coconut milk with choice of vegetable/chicken/prawn)', 'thai green curry': '(a traditional curry nude with garden fresh green chillies,vegetale/chicken/prawn)', 'sliced fish with fresh basil and roasted chilli flakes': 'sliced fish with fresh basil and roasted chilli flakes'}, {'rasil rice': '(vegetable/chichen)', 'pad trai noodle': '(traficional chai flat rice noodles wich choice of vegetables/chicken)', 'nutty pineapple fried rice': '(wok tossed fried rice wich pineapple with vegetables / chicken)'}, {'shredded lamb in szechuan sauce': 'shredded lamb in szechuan sauce', 'sliced lamb in chilli bean sauce': 'sliced lamb in chilli bean sauce', 'shredded lamb in hot garlic sauce': 'shredded lamb in hot garlic sauce', 'moncolian lamb': '(sliced lumb marinated with chinese spice tossed and cooled wich soya and spring onions)', 'rendang lamb': '(south east arian curry with delicious flavours)'}, {'sliced fish in szechuan sauce': 'sliced fish in szechuan sauce', 'sliced fish in mustard chill sauce': 'sliced fish in mustard chill sauce', 'sliced fish in hot garlic sauce': 'sliced fish in hot garlic sauce', 'grilled fish with roasted garlic and chillies': 'grilled fish with roasted garlic and chillies', 'sliced fish in chilli bean sauce': 'sliced fish in chilli bean sauce', 'lemon and coriander fish': 'lemon and coriander fish'}, {'wok tossed prawn with broccoli in oyster sauce': 'wok tossed prawn with broccoli in oyster sauce', 'prawn in hot garlic sauce': 'prawn in hot garlic sauce', 'black pepper prawn': 'black pepper prawn', 'prawn in traditional chilli bean sauce': 'prawn in traditional chilli bean sauce', 'kung pao prawns': 'kung pao prawns'}, {'manchow': '(vegetables/chicken thick soup skiped with garlic, green chilles and fresh corianders)', 'sweet corn': '(vegetables/chicken)', 'hot n sour': '(vegetables/chicken)', 'lemon & coriander': '(mushroom/chicken)', 'wonton soup': '(vegetables/chicken)', 'talumein': '(vegetables/chicken)', 'noodle soup with burnt garlic': '(vegetables/chicken)', 'thukpa': '(vegetables/chicken with a clear soup with noodles and vegetables)'}, {'classic dimsum': '(vegetables/chicken)', 'fried dumplings with sweet chilli': '(vegetables/chicken)', 'pan fried kothe': '(vegetables/chicken)', 'dimsums-momos': '(choice of sauce szechuan, manchurian, black pepper, and vegetables/chicken)', 'dim sums ginger spring onion': '(vegetables/chicken light soya and young onion sauce)', 'thaicreen curry vegetables dumplings': 'thaicreen curry vegetables dumplings', 'chicken dumplings with lemon and thai red curry': 'chicken dumplings with lemon and thai red curry'}, {'five spice chicken': '(crispy chicken topped with a special made flavoured wich chinese five spices)', 'chicken hongkong': '(diced chicken tempered with dry red chilly, ginger and spring oniont, cooled in soya chilli)', 'chicken manchurian': 'chicken manchurian', 'sliced chicken in creamy garlic sauce': 'sliced chicken in creamy garlic sauce', 'sliced chicken in black bean sauce': 'sliced chicken in black bean sauce', 'sliced chicken with asian green': '(stir fried chicken tosses with garden fresh greens with a hint of garlic and seseame oil)', 'clay pot chicken': '(slow cook chicken wich vegetable in a spicy sauce)', 'chicken in szechuan sauce': 'chicken in szechuan sauce', 'bercos chilli chicken': 'bercos chilli chicken', 'chicken in black pepper sauce': 'chicken in black pepper sauce', 'sliced chicken in chilli oyster sauce': 'sliced chicken in chilli oyster sauce', 'stir fried shredded chicken with ginger and wine': 'stir fried shredded chicken with ginger and wine', 'kung pao chicken': '(wok tossed chicken wich dry chilli in a soya ginger sauce with crunchy peanuts)', 'malah chicken': '(szechuan pepper and chilles spiced chicken', 'mongolian chicken': '(diced chicken cooled with ginger, celery chillies and star anise)'}, {'vegetable hot garlic sauce': 'vegetable hot garlic sauce', 'vegetable manchurian sauce': 'vegetable manchurian sauce', 'baby corn, mushrooms, broccoli in chilli bean sauce': 'baby corn, mushrooms, broccoli in chilli bean sauce', 'kung pao mushrooms': 'kung pao mushrooms', 'oriental vegetables sapo sauce': '(diced vegetables cooked in spicy sauce with celery served in a clay pos)', 'shredded potatoes in hot garlic sauce': 'shredded potatoes in hot garlic sauce', 'diced potato american corn in tsing hot sauce': '(potatoes ans sweet corn kernels in spicy sauce)', 'vegetables in creamy garlic sauce': '(assorted asian greens tossed in creamy garlic sauce with basil)', 'baby corn and mushroom in szechuan sauce': 'baby corn and mushroom in szechuan sauce', 'stir fried asian greens': '(chinese cabbage bok choy baby corn brocolli and zucchini tossed in classic light soya and rosted garlic)', 'cottage cheese in choice of sauce': '(with black pepper, hot garlic and chillis and peppers)', 'tofu and greens': '(chunks of silken tofu and chines greens toned in soya garlic sauce)', '': ''}]\n",
            "[{'fruit beer': 'fruit beer', 'midnicht beauty': '(cola served wish a scoop ef vanilla ice cram)', 'mojito': '(a cuban sociality made with mint or green apple or watermelon or strawberry)', 'passion fruit cooler': 'passion fruit cooler', 'pink lemonade': '(refreshing mix of pink, grage fruit and lemonade)', 'fresh mint lemonade': 'fresh mint lemonade', 'green apple cooler': 'green apple cooler', 'silver lining': '(lychee, pineapple juice, chocolate sauce, ice ceram and strawberry syrup)', 'virgin mary': '(a combination of tomate juice with sorcererstine sauce, tobaco and fresh lime)', 'pretty woman': '(mango juice, pineapple julce, ice cream and coconut cream syrup)', 'sweet memories': '(orange juice, mango juice, pinnaple juice, ice cream and granadine)'}, {'bottled water': 'bottled water', 'pepsi': 'pepsi', 'mirinda': 'mirinda', '7up': '7up', 'diet pepsi': 'diet pepsi', 'fresh lime water/soda': 'fresh lime water/soda', 'ginger fizz': 'ginger fizz', 'juices': '(apple, pineapple, mango, orange, mix fruits)', 'icedteas': '(peach, lemon, mint, green apple)', 'cold coffee': 'cold coffee', 'cold coffee with ice cream': 'cold coffee with ice cream'}]\n"
          ]
        }
      ]
    },
    {
      "cell_type": "code",
      "source": [
        "mainland_app = {}\n",
        "for i in mainland_breakdown['Appetizer']:\n",
        "  mainland_app.update(i)\n",
        "  #print(i) \n",
        "\n",
        "print(len(mainland_app))"
      ],
      "metadata": {
        "colab": {
          "base_uri": "https://localhost:8080/"
        },
        "id": "ZUlJ53rvtQqa",
        "outputId": "b4033661-dbf4-4b12-cd18-834bedc43f3c"
      },
      "execution_count": null,
      "outputs": [
        {
          "output_type": "stream",
          "name": "stdout",
          "text": [
            "37\n"
          ]
        }
      ]
    },
    {
      "cell_type": "code",
      "source": [
        "mainland_mainc = {}\n",
        "for i in mainland_breakdown['Main Course']:\n",
        "  mainland_mainc.update(i)\n",
        "  #print(i) \n",
        "\n",
        "print(len(mainland_mainc))"
      ],
      "metadata": {
        "colab": {
          "base_uri": "https://localhost:8080/"
        },
        "id": "n_xaE_ihmJzz",
        "outputId": "75eebd44-3f1e-4455-f51c-8d70d089f959"
      },
      "execution_count": null,
      "outputs": [
        {
          "output_type": "stream",
          "name": "stdout",
          "text": [
            "91\n"
          ]
        }
      ]
    },
    {
      "cell_type": "code",
      "source": [
        "berco_app = {}\n",
        "for i in berco_breakdown['Appetizer']:\n",
        "  berco_app.update(i)\n",
        "  #print(i) \n",
        "\n",
        "print(len(berco_app))"
      ],
      "metadata": {
        "colab": {
          "base_uri": "https://localhost:8080/"
        },
        "id": "YQN-ZNi6QDzK",
        "outputId": "05210a22-c540-43af-c919-1495eab63e7d"
      },
      "execution_count": null,
      "outputs": [
        {
          "output_type": "stream",
          "name": "stdout",
          "text": [
            "25\n"
          ]
        }
      ]
    },
    {
      "cell_type": "code",
      "source": [
        "berco_mainc = {}\n",
        "for i in berco_breakdown['Main Course']:\n",
        "  berco_mainc.update(i)\n",
        "  #print(i) \n",
        "\n",
        "print(len(berco_mainc))"
      ],
      "metadata": {
        "colab": {
          "base_uri": "https://localhost:8080/"
        },
        "id": "JYCexu7NmTdZ",
        "outputId": "8efd314f-6255-4d23-d443-5ef6bf9c34ad"
      },
      "execution_count": null,
      "outputs": [
        {
          "output_type": "stream",
          "name": "stdout",
          "text": [
            "96\n"
          ]
        }
      ]
    },
    {
      "cell_type": "code",
      "source": [
        "def pre_process(to_process): \n",
        "  temp = to_process.translate(str.maketrans(\"\", \"\", string.punctuation)).lower()\n",
        "  temp_set = set(temp.split(\" \"))\n",
        "  processed_set = set()\n",
        "  #stop_words = []\n",
        "  stop_words = [\"of\", 'on', 'and', \"with\"]\n",
        "  for i in temp_set: \n",
        "    if i not in stop_words: \n",
        "      processed_set.add(i)\n",
        "  return processed_set"
      ],
      "metadata": {
        "id": "AcBjahnVOKM_"
      },
      "execution_count": null,
      "outputs": []
    },
    {
      "cell_type": "code",
      "source": [
        "def jaccard_dist(a, b):\n",
        "    jac_ind = len(a.intersection(b))/len(a.union(a))\n",
        "    return jac_ind"
      ],
      "metadata": {
        "id": "w5WYsH2zOK6i"
      },
      "execution_count": null,
      "outputs": []
    },
    {
      "cell_type": "code",
      "source": [
        "#running the jaccard over the dictionary \n",
        "def check_similarity(dict_a, dict_b):\n",
        "  jac_ind = {}\n",
        "  for key_a in dict_a:\n",
        "    temp_jac_value = {} \n",
        "    temp_desc = pre_process(dict_a[key_a])\n",
        "    for key_b in dict_b:\n",
        "      compare_desc = pre_process(dict_b[key_b])\n",
        "      if compare_desc == {''} or temp_desc == {''}:\n",
        "        temp_jac_value[key_b] = -1\n",
        "      else: \n",
        "        temp_jac_value[key_b] = jaccard_dist(temp_desc, compare_desc)\n",
        "    sorted_temp  = dict(sorted(temp_jac_value.items(),key=operator.itemgetter(1),reverse=True))\n",
        "    temp_jac_value = sorted_temp\n",
        "    for i in temp_jac_value: \n",
        "      jac_ind[key_a] = temp_jac_value\n",
        "  return jac_ind\n",
        "\n"
      ],
      "metadata": {
        "id": "EMDAL-Zpp1fT"
      },
      "execution_count": null,
      "outputs": []
    },
    {
      "cell_type": "code",
      "source": [
        "def threshold(dict_name, threshold): \n",
        "  #change this from whole dictionary to just one row \n",
        "  # {smth: 0.5, smthelse: 0.6, smth2: 0.8}\n",
        "  temp_dict = {}\n",
        "  for i in dict_name: \n",
        "    if dict_name[i] >= threshold: \n",
        "      temp_dict[i] = dict_name[i]\n",
        "    else: \n",
        "      pass \n",
        "  return temp_dict"
      ],
      "metadata": {
        "id": "Yeruf0VFPQGU"
      },
      "execution_count": null,
      "outputs": []
    },
    {
      "cell_type": "code",
      "source": [
        "def get_item_info(item_name, menu_name_a, menu_name_b, min_threshhold):\n",
        "  item_name = item_name.lower()\n",
        "  final_report = {}\n",
        "  value_dict = {}\n",
        "  match_info = {}\n",
        "  similar_dict = check_similarity(menu_name_a, menu_name_b) #conatins similarities \n",
        "  item_jaccard = similar_dict[item_name]\n",
        "  high_sim = threshold(item_jaccard, min_threshhold)\n",
        "  for i in high_sim:\n",
        "    temp_list = []\n",
        "    temp_list = [i] \n",
        "    temp_list += [menu_name_b[i]]\n",
        "    temp_list += [high_sim[i]]\n",
        "    match_info[i] = temp_list\n",
        "\n",
        "  value_dict = {'matches': len(high_sim), 'info': match_info}\n",
        "  final_report[item_name] = value_dict\n",
        "  for i in final_report: \n",
        "    print('ITEM: ', i)\n",
        "    print('ITEM DESCRIPTION: ', menu_name_a[i])\n",
        "    print(\"number of matches: \", final_report[i]['matches'])\n",
        "    print('Threshold used: ', min_threshhold)\n",
        "    print(\"------------ Items matched: ----------------\")\n",
        "    for j in final_report[i]['info']: \n",
        "      print('name: ', j)\n",
        "      print('desc: ', final_report[i]['info'][j][1])\n",
        "      print('jaccard index: ', final_report[i]['info'][j][2])\n",
        "      print('-----------------------------------------')\n",
        "\n",
        "get_item_info('corn pepper salt',berco_app, mainland_app , 0.1)"
      ],
      "metadata": {
        "id": "7q1s_PryPTSU",
        "colab": {
          "base_uri": "https://localhost:8080/"
        },
        "outputId": "1f88fab7-63ad-411e-9cfd-9c1517b146e6"
      },
      "execution_count": null,
      "outputs": [
        {
          "output_type": "stream",
          "name": "stdout",
          "text": [
            "ITEM:  corn pepper salt\n",
            "ITEM DESCRIPTION:  (juicy corn kernels spiked wich freshly crushed pepper)\n",
            "number of matches:  9\n",
            "Threshold used:  0.1\n",
            "------------ Items matched: ----------------\n",
            "name:  corn chilli pepper with kaffir lime salt\n",
            "desc:  (crunchy corn kernel spiked with chilli peppers and dusted with kaffir lime salt)\n",
            "jaccard index:  0.25\n",
            "-----------------------------------------\n",
            "name:  vegetable tempura\n",
            "desc:  (vegetable fried in japanese tempura batter, tossed with freshly ground pepper and chilli flakes)\n",
            "jaccard index:  0.25\n",
            "-----------------------------------------\n",
            "name:  crispy corn cubes\n",
            "desc:  (piping hot cubes of creamy, crunchy lightly spiced corn)\n",
            "jaccard index:  0.125\n",
            "-----------------------------------------\n",
            "name:  crispy lotus stem with curry leaves and black pepper\n",
            "desc:  (lotus stem rounds tossed with curry leaves and black pepper)\n",
            "jaccard index:  0.125\n",
            "-----------------------------------------\n",
            "name:  stir fried teriyaki mushroom with fresh ginger\n",
            "desc:  (mushroom tossed in a sweet japanese teriyaki sauce spiked with chillies)\n",
            "jaccard index:  0.125\n",
            "-----------------------------------------\n",
            "name:  jumbo prawns\n",
            "desc:  (pepper salt /7 hunan style /4 mild chilli plum)\n",
            "jaccard index:  0.125\n",
            "-----------------------------------------\n",
            "name:  shanghai style baked fish\n",
            "desc:  (fish fillet spiced with sichuan pepper and chilli flakes. served with a cumin soya glaze)\n",
            "jaccard index:  0.125\n",
            "-----------------------------------------\n",
            "name:  teriyaki chicken\n",
            "desc:  (chicken cubes tossed in a sweet japanese teriyaki sauce spiked with chillies)\n",
            "jaccard index:  0.125\n",
            "-----------------------------------------\n",
            "name:  sichuan chicken with smoked chillies and peanuts\n",
            "desc:  (chicken seasoned with tongue-tingling sichuan pepper and dry red chillies)\n",
            "jaccard index:  0.125\n",
            "-----------------------------------------\n"
          ]
        }
      ]
    }
  ]
}